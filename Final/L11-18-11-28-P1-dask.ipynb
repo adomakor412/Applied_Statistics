{
 "cells": [
  {
   "cell_type": "code",
   "execution_count": 1,
   "metadata": {},
   "outputs": [],
   "source": [
    "# Data from\n",
    "#http://bit.ly/ngrants"
   ]
  },
  {
   "cell_type": "code",
   "execution_count": 2,
   "metadata": {},
   "outputs": [
    {
     "ename": "ModuleNotFoundError",
     "evalue": "No module named 'dask'",
     "output_type": "error",
     "traceback": [
      "\u001b[0;31m---------------------------------------------------------------------------\u001b[0m",
      "\u001b[0;31mModuleNotFoundError\u001b[0m                       Traceback (most recent call last)",
      "\u001b[0;32m<ipython-input-2-420aeb5f905d>\u001b[0m in \u001b[0;36m<module>\u001b[0;34m\u001b[0m\n\u001b[0;32m----> 1\u001b[0;31m \u001b[0;32mimport\u001b[0m \u001b[0mdask\u001b[0m\u001b[0;34m.\u001b[0m\u001b[0mdataframe\u001b[0m \u001b[0;32mas\u001b[0m \u001b[0mdd\u001b[0m\u001b[0;34m\u001b[0m\u001b[0;34m\u001b[0m\u001b[0m\n\u001b[0m",
      "\u001b[0;31mModuleNotFoundError\u001b[0m: No module named 'dask'"
     ]
    }
   ],
   "source": [
    "import dask.dataframe as dd"
   ]
  },
  {
   "cell_type": "code",
   "execution_count": 40,
   "metadata": {},
   "outputs": [],
   "source": [
    "cols = ['AppNumber', 'ApplicantType', 'ApprovedMatching','ApprovedOutright', \n",
    "        'AwardMatching', 'AwardOutright', 'BeginGrant',\n",
    "       'CouncilDate', 'Discipline', 'DisciplineCount', 'Division', 'EndGrant',\n",
    "       'InstCity', 'InstCountry', 'InstPostalCode', 'InstState', 'Institution',\n",
    "       'OrganizationType', 'OriginalAmount', 'Participant', 'ParticipantCount',\n",
    "       'PrimaryDiscipline', 'Program', 'ProjectDesc', 'ProjectTitle',\n",
    "       'SupplementCount', 'ToSupport', 'YearAwarded']"
   ]
  },
  {
   "cell_type": "code",
   "execution_count": 41,
   "metadata": {},
   "outputs": [],
   "source": [
    "df = dd.read_csv(\"neh_grants/*.csv\", usecols=['Unnamed: 0', 'AppNumber', 'ApplicantType', 'ApprovedMatching',\n",
    "       'ApprovedOutright', 'AwardMatching', 'AwardOutright', 'BeginGrant',\n",
    "       'CouncilDate', 'Discipline', 'DisciplineCount', 'Division', 'EndGrant',\n",
    "       'InstCity', 'InstCountry', 'InstPostalCode', 'InstState', 'Institution',\n",
    "       'OrganizationType', 'OriginalAmount', 'Participant', 'ParticipantCount',\n",
    "       'PrimaryDiscipline', 'Program', 'ProjectDesc', 'ProjectTitle',\n",
    "       'SupplementCount', 'ToSupport', 'YearAwarded'])"
   ]
  },
  {
   "cell_type": "code",
   "execution_count": 42,
   "metadata": {},
   "outputs": [
    {
     "data": {
      "text/plain": [
       "Index(['Unnamed: 0', 'AppNumber', 'ApplicantType', 'ApprovedMatching',\n",
       "       'ApprovedOutright', 'AwardMatching', 'AwardOutright', 'BeginGrant',\n",
       "       'CouncilDate', 'Discipline', 'DisciplineCount', 'Division', 'EndGrant',\n",
       "       'InstCity', 'InstCountry', 'InstPostalCode', 'InstState', 'Institution',\n",
       "       'OrganizationType', 'OriginalAmount', 'Participant', 'ParticipantCount',\n",
       "       'PrimaryDiscipline', 'Program', 'ProjectDesc', 'ProjectTitle',\n",
       "       'SupplementCount', 'ToSupport', 'YearAwarded'],\n",
       "      dtype='object')"
      ]
     },
     "execution_count": 42,
     "metadata": {},
     "output_type": "execute_result"
    }
   ],
   "source": [
    "df.columns"
   ]
  },
  {
   "cell_type": "code",
   "execution_count": 43,
   "metadata": {},
   "outputs": [
    {
     "name": "stdout",
     "output_type": "stream",
     "text": [
      "<class 'dask.dataframe.core.DataFrame'>\n",
      "Columns: 29 entries, Unnamed: 0 to YearAwarded\n",
      "dtypes: object(19), float64(5), int64(5)"
     ]
    }
   ],
   "source": [
    "df.info()"
   ]
  },
  {
   "cell_type": "code",
   "execution_count": 44,
   "metadata": {},
   "outputs": [
    {
     "data": {
      "text/html": [
       "<div><strong>Dask DataFrame Structure:</strong></div>\n",
       "<div>\n",
       "<style scoped>\n",
       "    .dataframe tbody tr th:only-of-type {\n",
       "        vertical-align: middle;\n",
       "    }\n",
       "\n",
       "    .dataframe tbody tr th {\n",
       "        vertical-align: top;\n",
       "    }\n",
       "\n",
       "    .dataframe thead th {\n",
       "        text-align: right;\n",
       "    }\n",
       "</style>\n",
       "<table border=\"1\" class=\"dataframe\">\n",
       "  <thead>\n",
       "    <tr style=\"text-align: right;\">\n",
       "      <th></th>\n",
       "      <th>Unnamed: 0</th>\n",
       "      <th>ApprovedMatching</th>\n",
       "      <th>ApprovedOutright</th>\n",
       "      <th>AwardMatching</th>\n",
       "      <th>AwardOutright</th>\n",
       "      <th>DisciplineCount</th>\n",
       "      <th>OriginalAmount</th>\n",
       "      <th>ParticipantCount</th>\n",
       "      <th>SupplementCount</th>\n",
       "      <th>YearAwarded</th>\n",
       "    </tr>\n",
       "    <tr>\n",
       "      <th>npartitions=1</th>\n",
       "      <th></th>\n",
       "      <th></th>\n",
       "      <th></th>\n",
       "      <th></th>\n",
       "      <th></th>\n",
       "      <th></th>\n",
       "      <th></th>\n",
       "      <th></th>\n",
       "      <th></th>\n",
       "      <th></th>\n",
       "    </tr>\n",
       "  </thead>\n",
       "  <tbody>\n",
       "    <tr>\n",
       "      <th></th>\n",
       "      <td>float64</td>\n",
       "      <td>float64</td>\n",
       "      <td>float64</td>\n",
       "      <td>float64</td>\n",
       "      <td>float64</td>\n",
       "      <td>float64</td>\n",
       "      <td>float64</td>\n",
       "      <td>float64</td>\n",
       "      <td>float64</td>\n",
       "      <td>float64</td>\n",
       "    </tr>\n",
       "    <tr>\n",
       "      <th></th>\n",
       "      <td>...</td>\n",
       "      <td>...</td>\n",
       "      <td>...</td>\n",
       "      <td>...</td>\n",
       "      <td>...</td>\n",
       "      <td>...</td>\n",
       "      <td>...</td>\n",
       "      <td>...</td>\n",
       "      <td>...</td>\n",
       "      <td>...</td>\n",
       "    </tr>\n",
       "  </tbody>\n",
       "</table>\n",
       "</div>\n",
       "<div>Dask Name: describe-numeric, 268 tasks</div>"
      ],
      "text/plain": [
       "Dask DataFrame Structure:\n",
       "              Unnamed: 0 ApprovedMatching ApprovedOutright AwardMatching AwardOutright DisciplineCount OriginalAmount ParticipantCount SupplementCount YearAwarded\n",
       "npartitions=1                                                                                                                                                     \n",
       "                 float64          float64          float64       float64       float64         float64        float64          float64         float64     float64\n",
       "                     ...              ...              ...           ...           ...             ...            ...              ...             ...         ...\n",
       "Dask Name: describe-numeric, 268 tasks"
      ]
     },
     "execution_count": 44,
     "metadata": {},
     "output_type": "execute_result"
    }
   ],
   "source": [
    "df.describe()"
   ]
  },
  {
   "cell_type": "code",
   "execution_count": 45,
   "metadata": {},
   "outputs": [
    {
     "data": {
      "text/html": [
       "<div>\n",
       "<style scoped>\n",
       "    .dataframe tbody tr th:only-of-type {\n",
       "        vertical-align: middle;\n",
       "    }\n",
       "\n",
       "    .dataframe tbody tr th {\n",
       "        vertical-align: top;\n",
       "    }\n",
       "\n",
       "    .dataframe thead th {\n",
       "        text-align: right;\n",
       "    }\n",
       "</style>\n",
       "<table border=\"1\" class=\"dataframe\">\n",
       "  <thead>\n",
       "    <tr style=\"text-align: right;\">\n",
       "      <th></th>\n",
       "      <th>Unnamed: 0</th>\n",
       "      <th>AppNumber</th>\n",
       "      <th>ApplicantType</th>\n",
       "      <th>ApprovedMatching</th>\n",
       "      <th>ApprovedOutright</th>\n",
       "      <th>AwardMatching</th>\n",
       "      <th>AwardOutright</th>\n",
       "      <th>BeginGrant</th>\n",
       "      <th>CouncilDate</th>\n",
       "      <th>Discipline</th>\n",
       "      <th>...</th>\n",
       "      <th>OriginalAmount</th>\n",
       "      <th>Participant</th>\n",
       "      <th>ParticipantCount</th>\n",
       "      <th>PrimaryDiscipline</th>\n",
       "      <th>Program</th>\n",
       "      <th>ProjectDesc</th>\n",
       "      <th>ProjectTitle</th>\n",
       "      <th>SupplementCount</th>\n",
       "      <th>ToSupport</th>\n",
       "      <th>YearAwarded</th>\n",
       "    </tr>\n",
       "  </thead>\n",
       "  <tbody>\n",
       "    <tr>\n",
       "      <td>0</td>\n",
       "      <td>0</td>\n",
       "      <td>FB-10007-68</td>\n",
       "      <td>I</td>\n",
       "      <td>0.0</td>\n",
       "      <td>8387.0</td>\n",
       "      <td>0.0</td>\n",
       "      <td>8387.0</td>\n",
       "      <td>1969-01-01T00:00:00</td>\n",
       "      <td>1967-11-01</td>\n",
       "      <td>{'Name': 'English'}</td>\n",
       "      <td>...</td>\n",
       "      <td>8387.0</td>\n",
       "      <td>{'Firstname': 'John', 'Lastname': 'Elliot', 'I...</td>\n",
       "      <td>1</td>\n",
       "      <td>English</td>\n",
       "      <td>Fellowships for Younger Scholars</td>\n",
       "      <td>{}</td>\n",
       "      <td>Title not available</td>\n",
       "      <td>0</td>\n",
       "      <td>{}</td>\n",
       "      <td>1968</td>\n",
       "    </tr>\n",
       "    <tr>\n",
       "      <td>1</td>\n",
       "      <td>1</td>\n",
       "      <td>FB-10009-68</td>\n",
       "      <td>I</td>\n",
       "      <td>0.0</td>\n",
       "      <td>8387.0</td>\n",
       "      <td>0.0</td>\n",
       "      <td>8387.0</td>\n",
       "      <td>1969-01-01T00:00:00</td>\n",
       "      <td>1967-11-01</td>\n",
       "      <td>{'Name': 'History of Religion'}</td>\n",
       "      <td>...</td>\n",
       "      <td>8387.0</td>\n",
       "      <td>{'Firstname': 'Steven', 'Lastname': 'Matthysse...</td>\n",
       "      <td>1</td>\n",
       "      <td>History of Religion</td>\n",
       "      <td>Fellowships for Younger Scholars</td>\n",
       "      <td>{}</td>\n",
       "      <td>Title not available</td>\n",
       "      <td>0</td>\n",
       "      <td>{}</td>\n",
       "      <td>1968</td>\n",
       "    </tr>\n",
       "    <tr>\n",
       "      <td>2</td>\n",
       "      <td>2</td>\n",
       "      <td>FB-10015-68</td>\n",
       "      <td>I</td>\n",
       "      <td>0.0</td>\n",
       "      <td>8387.0</td>\n",
       "      <td>0.0</td>\n",
       "      <td>8387.0</td>\n",
       "      <td>1969-01-01T00:00:00</td>\n",
       "      <td>1967-11-01</td>\n",
       "      <td>{'Name': 'History, General'}</td>\n",
       "      <td>...</td>\n",
       "      <td>8387.0</td>\n",
       "      <td>{'Firstname': 'John', 'Lastname': 'Staude', 'I...</td>\n",
       "      <td>1</td>\n",
       "      <td>History, General</td>\n",
       "      <td>Fellowships for Younger Scholars</td>\n",
       "      <td>{}</td>\n",
       "      <td>Title not available</td>\n",
       "      <td>0</td>\n",
       "      <td>{}</td>\n",
       "      <td>1968</td>\n",
       "    </tr>\n",
       "    <tr>\n",
       "      <td>3</td>\n",
       "      <td>3</td>\n",
       "      <td>FB-10019-68</td>\n",
       "      <td>I</td>\n",
       "      <td>0.0</td>\n",
       "      <td>8387.0</td>\n",
       "      <td>0.0</td>\n",
       "      <td>8387.0</td>\n",
       "      <td>1969-01-01T00:00:00</td>\n",
       "      <td>1967-11-01</td>\n",
       "      <td>{'Name': 'History, General'}</td>\n",
       "      <td>...</td>\n",
       "      <td>8387.0</td>\n",
       "      <td>{'Firstname': 'Thomas', 'Lastname': 'Havens', ...</td>\n",
       "      <td>1</td>\n",
       "      <td>History, General</td>\n",
       "      <td>Fellowships for Younger Scholars</td>\n",
       "      <td>{}</td>\n",
       "      <td>Title not available</td>\n",
       "      <td>0</td>\n",
       "      <td>{}</td>\n",
       "      <td>1968</td>\n",
       "    </tr>\n",
       "    <tr>\n",
       "      <td>4</td>\n",
       "      <td>4</td>\n",
       "      <td>FB-10023-68</td>\n",
       "      <td>I</td>\n",
       "      <td>0.0</td>\n",
       "      <td>8387.0</td>\n",
       "      <td>0.0</td>\n",
       "      <td>8387.0</td>\n",
       "      <td>1969-01-01T00:00:00</td>\n",
       "      <td>1967-11-01</td>\n",
       "      <td>{'Name': 'Psychology'}</td>\n",
       "      <td>...</td>\n",
       "      <td>8387.0</td>\n",
       "      <td>{'Firstname': 'Gresham', 'Lastname': 'Riley', ...</td>\n",
       "      <td>1</td>\n",
       "      <td>Psychology</td>\n",
       "      <td>Fellowships for Younger Scholars</td>\n",
       "      <td>{}</td>\n",
       "      <td>Title not available</td>\n",
       "      <td>0</td>\n",
       "      <td>{}</td>\n",
       "      <td>1968</td>\n",
       "    </tr>\n",
       "    <tr>\n",
       "      <td>5</td>\n",
       "      <td>5</td>\n",
       "      <td>FB-10045-68</td>\n",
       "      <td>I</td>\n",
       "      <td>0.0</td>\n",
       "      <td>8387.0</td>\n",
       "      <td>0.0</td>\n",
       "      <td>8387.0</td>\n",
       "      <td>1969-01-01T00:00:00</td>\n",
       "      <td>1967-11-01</td>\n",
       "      <td>{'Name': 'Political Science, General'}</td>\n",
       "      <td>...</td>\n",
       "      <td>8387.0</td>\n",
       "      <td>{'Firstname': 'Stephen', 'Lastname': 'Ellenbur...</td>\n",
       "      <td>1</td>\n",
       "      <td>Political Science, General</td>\n",
       "      <td>Fellowships for Younger Scholars</td>\n",
       "      <td>{}</td>\n",
       "      <td>Title not available</td>\n",
       "      <td>0</td>\n",
       "      <td>{}</td>\n",
       "      <td>1968</td>\n",
       "    </tr>\n",
       "    <tr>\n",
       "      <td>6</td>\n",
       "      <td>6</td>\n",
       "      <td>FB-10047-68</td>\n",
       "      <td>I</td>\n",
       "      <td>0.0</td>\n",
       "      <td>8387.0</td>\n",
       "      <td>0.0</td>\n",
       "      <td>8387.0</td>\n",
       "      <td>1969-01-01T00:00:00</td>\n",
       "      <td>1967-11-01</td>\n",
       "      <td>{'Name': 'English'}</td>\n",
       "      <td>...</td>\n",
       "      <td>8387.0</td>\n",
       "      <td>{'Firstname': 'Arthur', 'Lastname': 'Freeman',...</td>\n",
       "      <td>1</td>\n",
       "      <td>English</td>\n",
       "      <td>Fellowships for Younger Scholars</td>\n",
       "      <td>{}</td>\n",
       "      <td>Title not available</td>\n",
       "      <td>0</td>\n",
       "      <td>{}</td>\n",
       "      <td>1968</td>\n",
       "    </tr>\n",
       "    <tr>\n",
       "      <td>7</td>\n",
       "      <td>7</td>\n",
       "      <td>FB-10051-68</td>\n",
       "      <td>I</td>\n",
       "      <td>0.0</td>\n",
       "      <td>8387.0</td>\n",
       "      <td>0.0</td>\n",
       "      <td>8387.0</td>\n",
       "      <td>1969-01-01T00:00:00</td>\n",
       "      <td>1967-11-01</td>\n",
       "      <td>{'Name': 'U.S. History'}</td>\n",
       "      <td>...</td>\n",
       "      <td>8387.0</td>\n",
       "      <td>{'Firstname': 'Raymond', 'Lastname': 'Wilson',...</td>\n",
       "      <td>1</td>\n",
       "      <td>U.S. History</td>\n",
       "      <td>Fellowships for Younger Scholars</td>\n",
       "      <td>{}</td>\n",
       "      <td>Title not available</td>\n",
       "      <td>0</td>\n",
       "      <td>{}</td>\n",
       "      <td>1968</td>\n",
       "    </tr>\n",
       "    <tr>\n",
       "      <td>8</td>\n",
       "      <td>8</td>\n",
       "      <td>FB-10063-68</td>\n",
       "      <td>I</td>\n",
       "      <td>0.0</td>\n",
       "      <td>8387.0</td>\n",
       "      <td>0.0</td>\n",
       "      <td>8387.0</td>\n",
       "      <td>1969-01-01T00:00:00</td>\n",
       "      <td>1967-11-01</td>\n",
       "      <td>{'Name': 'U.S. History'}</td>\n",
       "      <td>...</td>\n",
       "      <td>8387.0</td>\n",
       "      <td>{'Firstname': 'Benjamin', 'Lastname': 'Rader',...</td>\n",
       "      <td>1</td>\n",
       "      <td>U.S. History</td>\n",
       "      <td>Fellowships for Younger Scholars</td>\n",
       "      <td>{}</td>\n",
       "      <td>Title not available</td>\n",
       "      <td>0</td>\n",
       "      <td>{}</td>\n",
       "      <td>1968</td>\n",
       "    </tr>\n",
       "    <tr>\n",
       "      <td>9</td>\n",
       "      <td>9</td>\n",
       "      <td>FB-10067-68</td>\n",
       "      <td>I</td>\n",
       "      <td>0.0</td>\n",
       "      <td>8387.0</td>\n",
       "      <td>0.0</td>\n",
       "      <td>8387.0</td>\n",
       "      <td>1969-01-01T00:00:00</td>\n",
       "      <td>1967-11-01</td>\n",
       "      <td>{'Name': 'History, General'}</td>\n",
       "      <td>...</td>\n",
       "      <td>8387.0</td>\n",
       "      <td>{'Firstname': 'James', 'Lastname': 'Stam', 'In...</td>\n",
       "      <td>1</td>\n",
       "      <td>History, General</td>\n",
       "      <td>Fellowships for Younger Scholars</td>\n",
       "      <td>{}</td>\n",
       "      <td>Title not available</td>\n",
       "      <td>0</td>\n",
       "      <td>{}</td>\n",
       "      <td>1968</td>\n",
       "    </tr>\n",
       "  </tbody>\n",
       "</table>\n",
       "<p>10 rows × 29 columns</p>\n",
       "</div>"
      ],
      "text/plain": [
       "   Unnamed: 0    AppNumber ApplicantType  ApprovedMatching  ApprovedOutright  \\\n",
       "0           0  FB-10007-68             I               0.0            8387.0   \n",
       "1           1  FB-10009-68             I               0.0            8387.0   \n",
       "2           2  FB-10015-68             I               0.0            8387.0   \n",
       "3           3  FB-10019-68             I               0.0            8387.0   \n",
       "4           4  FB-10023-68             I               0.0            8387.0   \n",
       "5           5  FB-10045-68             I               0.0            8387.0   \n",
       "6           6  FB-10047-68             I               0.0            8387.0   \n",
       "7           7  FB-10051-68             I               0.0            8387.0   \n",
       "8           8  FB-10063-68             I               0.0            8387.0   \n",
       "9           9  FB-10067-68             I               0.0            8387.0   \n",
       "\n",
       "   AwardMatching  AwardOutright           BeginGrant CouncilDate  \\\n",
       "0            0.0         8387.0  1969-01-01T00:00:00  1967-11-01   \n",
       "1            0.0         8387.0  1969-01-01T00:00:00  1967-11-01   \n",
       "2            0.0         8387.0  1969-01-01T00:00:00  1967-11-01   \n",
       "3            0.0         8387.0  1969-01-01T00:00:00  1967-11-01   \n",
       "4            0.0         8387.0  1969-01-01T00:00:00  1967-11-01   \n",
       "5            0.0         8387.0  1969-01-01T00:00:00  1967-11-01   \n",
       "6            0.0         8387.0  1969-01-01T00:00:00  1967-11-01   \n",
       "7            0.0         8387.0  1969-01-01T00:00:00  1967-11-01   \n",
       "8            0.0         8387.0  1969-01-01T00:00:00  1967-11-01   \n",
       "9            0.0         8387.0  1969-01-01T00:00:00  1967-11-01   \n",
       "\n",
       "                               Discipline  ...  OriginalAmount  \\\n",
       "0                     {'Name': 'English'}  ...          8387.0   \n",
       "1         {'Name': 'History of Religion'}  ...          8387.0   \n",
       "2            {'Name': 'History, General'}  ...          8387.0   \n",
       "3            {'Name': 'History, General'}  ...          8387.0   \n",
       "4                  {'Name': 'Psychology'}  ...          8387.0   \n",
       "5  {'Name': 'Political Science, General'}  ...          8387.0   \n",
       "6                     {'Name': 'English'}  ...          8387.0   \n",
       "7                {'Name': 'U.S. History'}  ...          8387.0   \n",
       "8                {'Name': 'U.S. History'}  ...          8387.0   \n",
       "9            {'Name': 'History, General'}  ...          8387.0   \n",
       "\n",
       "                                         Participant ParticipantCount  \\\n",
       "0  {'Firstname': 'John', 'Lastname': 'Elliot', 'I...                1   \n",
       "1  {'Firstname': 'Steven', 'Lastname': 'Matthysse...                1   \n",
       "2  {'Firstname': 'John', 'Lastname': 'Staude', 'I...                1   \n",
       "3  {'Firstname': 'Thomas', 'Lastname': 'Havens', ...                1   \n",
       "4  {'Firstname': 'Gresham', 'Lastname': 'Riley', ...                1   \n",
       "5  {'Firstname': 'Stephen', 'Lastname': 'Ellenbur...                1   \n",
       "6  {'Firstname': 'Arthur', 'Lastname': 'Freeman',...                1   \n",
       "7  {'Firstname': 'Raymond', 'Lastname': 'Wilson',...                1   \n",
       "8  {'Firstname': 'Benjamin', 'Lastname': 'Rader',...                1   \n",
       "9  {'Firstname': 'James', 'Lastname': 'Stam', 'In...                1   \n",
       "\n",
       "            PrimaryDiscipline                           Program ProjectDesc  \\\n",
       "0                     English  Fellowships for Younger Scholars          {}   \n",
       "1         History of Religion  Fellowships for Younger Scholars          {}   \n",
       "2            History, General  Fellowships for Younger Scholars          {}   \n",
       "3            History, General  Fellowships for Younger Scholars          {}   \n",
       "4                  Psychology  Fellowships for Younger Scholars          {}   \n",
       "5  Political Science, General  Fellowships for Younger Scholars          {}   \n",
       "6                     English  Fellowships for Younger Scholars          {}   \n",
       "7                U.S. History  Fellowships for Younger Scholars          {}   \n",
       "8                U.S. History  Fellowships for Younger Scholars          {}   \n",
       "9            History, General  Fellowships for Younger Scholars          {}   \n",
       "\n",
       "          ProjectTitle SupplementCount ToSupport  YearAwarded  \n",
       "0  Title not available               0        {}         1968  \n",
       "1  Title not available               0        {}         1968  \n",
       "2  Title not available               0        {}         1968  \n",
       "3  Title not available               0        {}         1968  \n",
       "4  Title not available               0        {}         1968  \n",
       "5  Title not available               0        {}         1968  \n",
       "6  Title not available               0        {}         1968  \n",
       "7  Title not available               0        {}         1968  \n",
       "8  Title not available               0        {}         1968  \n",
       "9  Title not available               0        {}         1968  \n",
       "\n",
       "[10 rows x 29 columns]"
      ]
     },
     "execution_count": 45,
     "metadata": {},
     "output_type": "execute_result"
    }
   ],
   "source": [
    "df.head(10)"
   ]
  },
  {
   "cell_type": "code",
   "execution_count": 46,
   "metadata": {},
   "outputs": [
    {
     "data": {
      "text/html": [
       "<div><strong>Dask DataFrame Structure:</strong></div>\n",
       "<div>\n",
       "<style scoped>\n",
       "    .dataframe tbody tr th:only-of-type {\n",
       "        vertical-align: middle;\n",
       "    }\n",
       "\n",
       "    .dataframe tbody tr th {\n",
       "        vertical-align: top;\n",
       "    }\n",
       "\n",
       "    .dataframe thead th {\n",
       "        text-align: right;\n",
       "    }\n",
       "</style>\n",
       "<table border=\"1\" class=\"dataframe\">\n",
       "  <thead>\n",
       "    <tr style=\"text-align: right;\">\n",
       "      <th></th>\n",
       "      <th>Unnamed: 0</th>\n",
       "      <th>AppNumber</th>\n",
       "      <th>ApplicantType</th>\n",
       "      <th>ApprovedMatching</th>\n",
       "      <th>ApprovedOutright</th>\n",
       "      <th>AwardMatching</th>\n",
       "      <th>AwardOutright</th>\n",
       "      <th>BeginGrant</th>\n",
       "      <th>CouncilDate</th>\n",
       "      <th>Discipline</th>\n",
       "      <th>DisciplineCount</th>\n",
       "      <th>Division</th>\n",
       "      <th>EndGrant</th>\n",
       "      <th>InstCity</th>\n",
       "      <th>InstCountry</th>\n",
       "      <th>InstPostalCode</th>\n",
       "      <th>InstState</th>\n",
       "      <th>Institution</th>\n",
       "      <th>OrganizationType</th>\n",
       "      <th>OriginalAmount</th>\n",
       "      <th>Participant</th>\n",
       "      <th>ParticipantCount</th>\n",
       "      <th>PrimaryDiscipline</th>\n",
       "      <th>Program</th>\n",
       "      <th>ProjectDesc</th>\n",
       "      <th>ProjectTitle</th>\n",
       "      <th>SupplementCount</th>\n",
       "      <th>ToSupport</th>\n",
       "      <th>YearAwarded</th>\n",
       "    </tr>\n",
       "    <tr>\n",
       "      <th>npartitions=6</th>\n",
       "      <th></th>\n",
       "      <th></th>\n",
       "      <th></th>\n",
       "      <th></th>\n",
       "      <th></th>\n",
       "      <th></th>\n",
       "      <th></th>\n",
       "      <th></th>\n",
       "      <th></th>\n",
       "      <th></th>\n",
       "      <th></th>\n",
       "      <th></th>\n",
       "      <th></th>\n",
       "      <th></th>\n",
       "      <th></th>\n",
       "      <th></th>\n",
       "      <th></th>\n",
       "      <th></th>\n",
       "      <th></th>\n",
       "      <th></th>\n",
       "      <th></th>\n",
       "      <th></th>\n",
       "      <th></th>\n",
       "      <th></th>\n",
       "      <th></th>\n",
       "      <th></th>\n",
       "      <th></th>\n",
       "      <th></th>\n",
       "      <th></th>\n",
       "    </tr>\n",
       "  </thead>\n",
       "  <tbody>\n",
       "    <tr>\n",
       "      <th></th>\n",
       "      <td>int64</td>\n",
       "      <td>object</td>\n",
       "      <td>object</td>\n",
       "      <td>float64</td>\n",
       "      <td>float64</td>\n",
       "      <td>float64</td>\n",
       "      <td>float64</td>\n",
       "      <td>object</td>\n",
       "      <td>object</td>\n",
       "      <td>object</td>\n",
       "      <td>int64</td>\n",
       "      <td>object</td>\n",
       "      <td>object</td>\n",
       "      <td>object</td>\n",
       "      <td>object</td>\n",
       "      <td>object</td>\n",
       "      <td>object</td>\n",
       "      <td>object</td>\n",
       "      <td>object</td>\n",
       "      <td>float64</td>\n",
       "      <td>object</td>\n",
       "      <td>int64</td>\n",
       "      <td>object</td>\n",
       "      <td>object</td>\n",
       "      <td>object</td>\n",
       "      <td>object</td>\n",
       "      <td>int64</td>\n",
       "      <td>object</td>\n",
       "      <td>int64</td>\n",
       "    </tr>\n",
       "    <tr>\n",
       "      <th></th>\n",
       "      <td>...</td>\n",
       "      <td>...</td>\n",
       "      <td>...</td>\n",
       "      <td>...</td>\n",
       "      <td>...</td>\n",
       "      <td>...</td>\n",
       "      <td>...</td>\n",
       "      <td>...</td>\n",
       "      <td>...</td>\n",
       "      <td>...</td>\n",
       "      <td>...</td>\n",
       "      <td>...</td>\n",
       "      <td>...</td>\n",
       "      <td>...</td>\n",
       "      <td>...</td>\n",
       "      <td>...</td>\n",
       "      <td>...</td>\n",
       "      <td>...</td>\n",
       "      <td>...</td>\n",
       "      <td>...</td>\n",
       "      <td>...</td>\n",
       "      <td>...</td>\n",
       "      <td>...</td>\n",
       "      <td>...</td>\n",
       "      <td>...</td>\n",
       "      <td>...</td>\n",
       "      <td>...</td>\n",
       "      <td>...</td>\n",
       "      <td>...</td>\n",
       "    </tr>\n",
       "    <tr>\n",
       "      <th>...</th>\n",
       "      <td>...</td>\n",
       "      <td>...</td>\n",
       "      <td>...</td>\n",
       "      <td>...</td>\n",
       "      <td>...</td>\n",
       "      <td>...</td>\n",
       "      <td>...</td>\n",
       "      <td>...</td>\n",
       "      <td>...</td>\n",
       "      <td>...</td>\n",
       "      <td>...</td>\n",
       "      <td>...</td>\n",
       "      <td>...</td>\n",
       "      <td>...</td>\n",
       "      <td>...</td>\n",
       "      <td>...</td>\n",
       "      <td>...</td>\n",
       "      <td>...</td>\n",
       "      <td>...</td>\n",
       "      <td>...</td>\n",
       "      <td>...</td>\n",
       "      <td>...</td>\n",
       "      <td>...</td>\n",
       "      <td>...</td>\n",
       "      <td>...</td>\n",
       "      <td>...</td>\n",
       "      <td>...</td>\n",
       "      <td>...</td>\n",
       "      <td>...</td>\n",
       "    </tr>\n",
       "    <tr>\n",
       "      <th></th>\n",
       "      <td>...</td>\n",
       "      <td>...</td>\n",
       "      <td>...</td>\n",
       "      <td>...</td>\n",
       "      <td>...</td>\n",
       "      <td>...</td>\n",
       "      <td>...</td>\n",
       "      <td>...</td>\n",
       "      <td>...</td>\n",
       "      <td>...</td>\n",
       "      <td>...</td>\n",
       "      <td>...</td>\n",
       "      <td>...</td>\n",
       "      <td>...</td>\n",
       "      <td>...</td>\n",
       "      <td>...</td>\n",
       "      <td>...</td>\n",
       "      <td>...</td>\n",
       "      <td>...</td>\n",
       "      <td>...</td>\n",
       "      <td>...</td>\n",
       "      <td>...</td>\n",
       "      <td>...</td>\n",
       "      <td>...</td>\n",
       "      <td>...</td>\n",
       "      <td>...</td>\n",
       "      <td>...</td>\n",
       "      <td>...</td>\n",
       "      <td>...</td>\n",
       "    </tr>\n",
       "    <tr>\n",
       "      <th></th>\n",
       "      <td>...</td>\n",
       "      <td>...</td>\n",
       "      <td>...</td>\n",
       "      <td>...</td>\n",
       "      <td>...</td>\n",
       "      <td>...</td>\n",
       "      <td>...</td>\n",
       "      <td>...</td>\n",
       "      <td>...</td>\n",
       "      <td>...</td>\n",
       "      <td>...</td>\n",
       "      <td>...</td>\n",
       "      <td>...</td>\n",
       "      <td>...</td>\n",
       "      <td>...</td>\n",
       "      <td>...</td>\n",
       "      <td>...</td>\n",
       "      <td>...</td>\n",
       "      <td>...</td>\n",
       "      <td>...</td>\n",
       "      <td>...</td>\n",
       "      <td>...</td>\n",
       "      <td>...</td>\n",
       "      <td>...</td>\n",
       "      <td>...</td>\n",
       "      <td>...</td>\n",
       "      <td>...</td>\n",
       "      <td>...</td>\n",
       "      <td>...</td>\n",
       "    </tr>\n",
       "  </tbody>\n",
       "</table>\n",
       "</div>\n",
       "<div>Dask Name: from-delayed, 18 tasks</div>"
      ],
      "text/plain": [
       "Dask DataFrame Structure:\n",
       "              Unnamed: 0 AppNumber ApplicantType ApprovedMatching ApprovedOutright AwardMatching AwardOutright BeginGrant CouncilDate Discipline DisciplineCount Division EndGrant InstCity InstCountry InstPostalCode InstState Institution OrganizationType OriginalAmount Participant ParticipantCount PrimaryDiscipline Program ProjectDesc ProjectTitle SupplementCount ToSupport YearAwarded\n",
       "npartitions=6                                                                                                                                                                                                                                                                                                                                                                                     \n",
       "                   int64    object        object          float64          float64       float64       float64     object      object     object           int64   object   object   object      object         object    object      object           object        float64      object            int64            object  object      object       object           int64    object       int64\n",
       "                     ...       ...           ...              ...              ...           ...           ...        ...         ...        ...             ...      ...      ...      ...         ...            ...       ...         ...              ...            ...         ...              ...               ...     ...         ...          ...             ...       ...         ...\n",
       "...                  ...       ...           ...              ...              ...           ...           ...        ...         ...        ...             ...      ...      ...      ...         ...            ...       ...         ...              ...            ...         ...              ...               ...     ...         ...          ...             ...       ...         ...\n",
       "                     ...       ...           ...              ...              ...           ...           ...        ...         ...        ...             ...      ...      ...      ...         ...            ...       ...         ...              ...            ...         ...              ...               ...     ...         ...          ...             ...       ...         ...\n",
       "                     ...       ...           ...              ...              ...           ...           ...        ...         ...        ...             ...      ...      ...      ...         ...            ...       ...         ...              ...            ...         ...              ...               ...     ...         ...          ...             ...       ...         ...\n",
       "Dask Name: from-delayed, 18 tasks"
      ]
     },
     "execution_count": 46,
     "metadata": {},
     "output_type": "execute_result"
    }
   ],
   "source": [
    "df"
   ]
  },
  {
   "cell_type": "code",
   "execution_count": 47,
   "metadata": {},
   "outputs": [],
   "source": [
    "df['date'] = df['BeginGrant'].str.rpartition(\"-\")[0]"
   ]
  },
  {
   "cell_type": "code",
   "execution_count": 48,
   "metadata": {},
   "outputs": [
    {
     "data": {
      "text/html": [
       "<div><strong>Dask DataFrame Structure:</strong></div>\n",
       "<div>\n",
       "<style scoped>\n",
       "    .dataframe tbody tr th:only-of-type {\n",
       "        vertical-align: middle;\n",
       "    }\n",
       "\n",
       "    .dataframe tbody tr th {\n",
       "        vertical-align: top;\n",
       "    }\n",
       "\n",
       "    .dataframe thead th {\n",
       "        text-align: right;\n",
       "    }\n",
       "</style>\n",
       "<table border=\"1\" class=\"dataframe\">\n",
       "  <thead>\n",
       "    <tr style=\"text-align: right;\">\n",
       "      <th></th>\n",
       "      <th>Unnamed: 0</th>\n",
       "      <th>AppNumber</th>\n",
       "      <th>ApplicantType</th>\n",
       "      <th>ApprovedMatching</th>\n",
       "      <th>ApprovedOutright</th>\n",
       "      <th>AwardMatching</th>\n",
       "      <th>AwardOutright</th>\n",
       "      <th>BeginGrant</th>\n",
       "      <th>CouncilDate</th>\n",
       "      <th>Discipline</th>\n",
       "      <th>DisciplineCount</th>\n",
       "      <th>Division</th>\n",
       "      <th>EndGrant</th>\n",
       "      <th>InstCity</th>\n",
       "      <th>InstCountry</th>\n",
       "      <th>InstPostalCode</th>\n",
       "      <th>InstState</th>\n",
       "      <th>Institution</th>\n",
       "      <th>OrganizationType</th>\n",
       "      <th>OriginalAmount</th>\n",
       "      <th>Participant</th>\n",
       "      <th>ParticipantCount</th>\n",
       "      <th>PrimaryDiscipline</th>\n",
       "      <th>Program</th>\n",
       "      <th>ProjectDesc</th>\n",
       "      <th>ProjectTitle</th>\n",
       "      <th>SupplementCount</th>\n",
       "      <th>ToSupport</th>\n",
       "      <th>YearAwarded</th>\n",
       "      <th>date</th>\n",
       "    </tr>\n",
       "    <tr>\n",
       "      <th>npartitions=6</th>\n",
       "      <th></th>\n",
       "      <th></th>\n",
       "      <th></th>\n",
       "      <th></th>\n",
       "      <th></th>\n",
       "      <th></th>\n",
       "      <th></th>\n",
       "      <th></th>\n",
       "      <th></th>\n",
       "      <th></th>\n",
       "      <th></th>\n",
       "      <th></th>\n",
       "      <th></th>\n",
       "      <th></th>\n",
       "      <th></th>\n",
       "      <th></th>\n",
       "      <th></th>\n",
       "      <th></th>\n",
       "      <th></th>\n",
       "      <th></th>\n",
       "      <th></th>\n",
       "      <th></th>\n",
       "      <th></th>\n",
       "      <th></th>\n",
       "      <th></th>\n",
       "      <th></th>\n",
       "      <th></th>\n",
       "      <th></th>\n",
       "      <th></th>\n",
       "      <th></th>\n",
       "    </tr>\n",
       "  </thead>\n",
       "  <tbody>\n",
       "    <tr>\n",
       "      <th></th>\n",
       "      <td>int64</td>\n",
       "      <td>object</td>\n",
       "      <td>object</td>\n",
       "      <td>float64</td>\n",
       "      <td>float64</td>\n",
       "      <td>float64</td>\n",
       "      <td>float64</td>\n",
       "      <td>object</td>\n",
       "      <td>object</td>\n",
       "      <td>object</td>\n",
       "      <td>int64</td>\n",
       "      <td>object</td>\n",
       "      <td>object</td>\n",
       "      <td>object</td>\n",
       "      <td>object</td>\n",
       "      <td>object</td>\n",
       "      <td>object</td>\n",
       "      <td>object</td>\n",
       "      <td>object</td>\n",
       "      <td>float64</td>\n",
       "      <td>object</td>\n",
       "      <td>int64</td>\n",
       "      <td>object</td>\n",
       "      <td>object</td>\n",
       "      <td>object</td>\n",
       "      <td>object</td>\n",
       "      <td>int64</td>\n",
       "      <td>object</td>\n",
       "      <td>int64</td>\n",
       "      <td>object</td>\n",
       "    </tr>\n",
       "    <tr>\n",
       "      <th></th>\n",
       "      <td>...</td>\n",
       "      <td>...</td>\n",
       "      <td>...</td>\n",
       "      <td>...</td>\n",
       "      <td>...</td>\n",
       "      <td>...</td>\n",
       "      <td>...</td>\n",
       "      <td>...</td>\n",
       "      <td>...</td>\n",
       "      <td>...</td>\n",
       "      <td>...</td>\n",
       "      <td>...</td>\n",
       "      <td>...</td>\n",
       "      <td>...</td>\n",
       "      <td>...</td>\n",
       "      <td>...</td>\n",
       "      <td>...</td>\n",
       "      <td>...</td>\n",
       "      <td>...</td>\n",
       "      <td>...</td>\n",
       "      <td>...</td>\n",
       "      <td>...</td>\n",
       "      <td>...</td>\n",
       "      <td>...</td>\n",
       "      <td>...</td>\n",
       "      <td>...</td>\n",
       "      <td>...</td>\n",
       "      <td>...</td>\n",
       "      <td>...</td>\n",
       "      <td>...</td>\n",
       "    </tr>\n",
       "    <tr>\n",
       "      <th>...</th>\n",
       "      <td>...</td>\n",
       "      <td>...</td>\n",
       "      <td>...</td>\n",
       "      <td>...</td>\n",
       "      <td>...</td>\n",
       "      <td>...</td>\n",
       "      <td>...</td>\n",
       "      <td>...</td>\n",
       "      <td>...</td>\n",
       "      <td>...</td>\n",
       "      <td>...</td>\n",
       "      <td>...</td>\n",
       "      <td>...</td>\n",
       "      <td>...</td>\n",
       "      <td>...</td>\n",
       "      <td>...</td>\n",
       "      <td>...</td>\n",
       "      <td>...</td>\n",
       "      <td>...</td>\n",
       "      <td>...</td>\n",
       "      <td>...</td>\n",
       "      <td>...</td>\n",
       "      <td>...</td>\n",
       "      <td>...</td>\n",
       "      <td>...</td>\n",
       "      <td>...</td>\n",
       "      <td>...</td>\n",
       "      <td>...</td>\n",
       "      <td>...</td>\n",
       "      <td>...</td>\n",
       "    </tr>\n",
       "    <tr>\n",
       "      <th></th>\n",
       "      <td>...</td>\n",
       "      <td>...</td>\n",
       "      <td>...</td>\n",
       "      <td>...</td>\n",
       "      <td>...</td>\n",
       "      <td>...</td>\n",
       "      <td>...</td>\n",
       "      <td>...</td>\n",
       "      <td>...</td>\n",
       "      <td>...</td>\n",
       "      <td>...</td>\n",
       "      <td>...</td>\n",
       "      <td>...</td>\n",
       "      <td>...</td>\n",
       "      <td>...</td>\n",
       "      <td>...</td>\n",
       "      <td>...</td>\n",
       "      <td>...</td>\n",
       "      <td>...</td>\n",
       "      <td>...</td>\n",
       "      <td>...</td>\n",
       "      <td>...</td>\n",
       "      <td>...</td>\n",
       "      <td>...</td>\n",
       "      <td>...</td>\n",
       "      <td>...</td>\n",
       "      <td>...</td>\n",
       "      <td>...</td>\n",
       "      <td>...</td>\n",
       "      <td>...</td>\n",
       "    </tr>\n",
       "    <tr>\n",
       "      <th></th>\n",
       "      <td>...</td>\n",
       "      <td>...</td>\n",
       "      <td>...</td>\n",
       "      <td>...</td>\n",
       "      <td>...</td>\n",
       "      <td>...</td>\n",
       "      <td>...</td>\n",
       "      <td>...</td>\n",
       "      <td>...</td>\n",
       "      <td>...</td>\n",
       "      <td>...</td>\n",
       "      <td>...</td>\n",
       "      <td>...</td>\n",
       "      <td>...</td>\n",
       "      <td>...</td>\n",
       "      <td>...</td>\n",
       "      <td>...</td>\n",
       "      <td>...</td>\n",
       "      <td>...</td>\n",
       "      <td>...</td>\n",
       "      <td>...</td>\n",
       "      <td>...</td>\n",
       "      <td>...</td>\n",
       "      <td>...</td>\n",
       "      <td>...</td>\n",
       "      <td>...</td>\n",
       "      <td>...</td>\n",
       "      <td>...</td>\n",
       "      <td>...</td>\n",
       "      <td>...</td>\n",
       "    </tr>\n",
       "  </tbody>\n",
       "</table>\n",
       "</div>\n",
       "<div>Dask Name: assign, 42 tasks</div>"
      ],
      "text/plain": [
       "Dask DataFrame Structure:\n",
       "              Unnamed: 0 AppNumber ApplicantType ApprovedMatching ApprovedOutright AwardMatching AwardOutright BeginGrant CouncilDate Discipline DisciplineCount Division EndGrant InstCity InstCountry InstPostalCode InstState Institution OrganizationType OriginalAmount Participant ParticipantCount PrimaryDiscipline Program ProjectDesc ProjectTitle SupplementCount ToSupport YearAwarded    date\n",
       "npartitions=6                                                                                                                                                                                                                                                                                                                                                                                             \n",
       "                   int64    object        object          float64          float64       float64       float64     object      object     object           int64   object   object   object      object         object    object      object           object        float64      object            int64            object  object      object       object           int64    object       int64  object\n",
       "                     ...       ...           ...              ...              ...           ...           ...        ...         ...        ...             ...      ...      ...      ...         ...            ...       ...         ...              ...            ...         ...              ...               ...     ...         ...          ...             ...       ...         ...     ...\n",
       "...                  ...       ...           ...              ...              ...           ...           ...        ...         ...        ...             ...      ...      ...      ...         ...            ...       ...         ...              ...            ...         ...              ...               ...     ...         ...          ...             ...       ...         ...     ...\n",
       "                     ...       ...           ...              ...              ...           ...           ...        ...         ...        ...             ...      ...      ...      ...         ...            ...       ...         ...              ...            ...         ...              ...               ...     ...         ...          ...             ...       ...         ...     ...\n",
       "                     ...       ...           ...              ...              ...           ...           ...        ...         ...        ...             ...      ...      ...      ...         ...            ...       ...         ...              ...            ...         ...              ...               ...     ...         ...          ...             ...       ...         ...     ...\n",
       "Dask Name: assign, 42 tasks"
      ]
     },
     "execution_count": 48,
     "metadata": {},
     "output_type": "execute_result"
    }
   ],
   "source": [
    "df"
   ]
  },
  {
   "cell_type": "code",
   "execution_count": 49,
   "metadata": {},
   "outputs": [
    {
     "name": "stdout",
     "output_type": "stream",
     "text": [
      "Wall time: 653 ms\n"
     ]
    }
   ],
   "source": [
    "%time dates = df['date'].compute().sort_values()"
   ]
  },
  {
   "cell_type": "code",
   "execution_count": 50,
   "metadata": {},
   "outputs": [
    {
     "data": {
      "text/plain": [
       "('1953-07', '9999-09')"
      ]
     },
     "execution_count": 50,
     "metadata": {},
     "output_type": "execute_result"
    }
   ],
   "source": [
    "dates.iloc[0], dates.iloc[-1]"
   ]
  },
  {
   "cell_type": "code",
   "execution_count": 52,
   "metadata": {},
   "outputs": [],
   "source": [
    "df = df[df['date']!='9999-09']"
   ]
  },
  {
   "cell_type": "code",
   "execution_count": 53,
   "metadata": {},
   "outputs": [
    {
     "name": "stdout",
     "output_type": "stream",
     "text": [
      "Wall time: 697 ms\n"
     ]
    }
   ],
   "source": [
    "%time dates2 = df['date'].compute().sort_values()"
   ]
  },
  {
   "cell_type": "code",
   "execution_count": 54,
   "metadata": {},
   "outputs": [
    {
     "data": {
      "text/plain": [
       "('1953-07', '2018-09')"
      ]
     },
     "execution_count": 54,
     "metadata": {},
     "output_type": "execute_result"
    }
   ],
   "source": [
    "dates2.iloc[0], dates2.iloc[-1]"
   ]
  },
  {
   "cell_type": "code",
   "execution_count": 55,
   "metadata": {},
   "outputs": [],
   "source": [
    "import datetime\n",
    "from pandas_datareader import data as pddata\n",
    "\n",
    "start = datetime.datetime(1953, 7, 1)\n",
    "end = datetime.datetime(2018,9, 1)\n",
    "\n",
    "cpium=pddata.DataReader(\"CPIAUCSL\", \"fred\", start, end)\n",
    "\n",
    "inflation = cpium/cpium.loc['2018-09-01']\n",
    "monthly = inflation.index.strftime(\"%Y-%m\")\n",
    "monthly_inflation = inflation.reindex(monthly)"
   ]
  },
  {
   "cell_type": "code",
   "execution_count": 56,
   "metadata": {},
   "outputs": [],
   "source": [
    "mdf = dd.merge(df, monthly_inflation, how='left', left_on='date', right_index=True)"
   ]
  },
  {
   "cell_type": "code",
   "execution_count": 57,
   "metadata": {},
   "outputs": [],
   "source": [
    "mdf['AwardOutrightAdjusted'] = mdf['AwardOutright']/mdf['CPIAUCSL']"
   ]
  },
  {
   "cell_type": "code",
   "execution_count": 58,
   "metadata": {},
   "outputs": [],
   "source": [
    "adf = mdf[['AwardOutrightAdjusted','AwardOutright', 'date']].compute().sort_values('date', ascending=True).set_index('date')"
   ]
  },
  {
   "cell_type": "code",
   "execution_count": 59,
   "metadata": {},
   "outputs": [
    {
     "data": {
      "image/png": "[encoded data removed]",
      "text/plain": [
       "<Figure size 1440x720 with 1 Axes>"
      ]
     },
     "metadata": {
      "needs_background": "light"
     },
     "output_type": "display_data"
    }
   ],
   "source": [
    "%matplotlib inline\n",
    "import matplotlib.pyplot as plt\n",
    "fig, ax =plt.subplots(figsize=(20,10))\n",
    "_ = adf.plot(ax=ax)\n",
    "_ = ax.set_ylim(0,)\n",
    "_ = ax.set_xlim(0, len(adf))"
   ]
  },
  {
   "cell_type": "code",
   "execution_count": 60,
   "metadata": {},
   "outputs": [
    {
     "name": "stdout",
     "output_type": "stream",
     "text": [
      "[########################################] | 100% Completed |  0.9s\n"
     ]
    }
   ],
   "source": [
    "from dask.diagnostics import ProgressBar\n",
    "with ProgressBar():\n",
    "    state = mdf.groupby('InstState')['AwardOutrightAdjusted'].sum().compute()"
   ]
  },
  {
   "cell_type": "code",
   "execution_count": 61,
   "metadata": {},
   "outputs": [
    {
     "data": {
      "text/plain": [
       "InstState\n",
       "AK    6.024756e+07\n",
       "AL    6.524676e+07\n",
       "AR    4.882311e+07\n",
       "AZ    9.768084e+07\n",
       "CA    7.772908e+08\n",
       "Name: AwardOutrightAdjusted, dtype: float64"
      ]
     },
     "execution_count": 61,
     "metadata": {},
     "output_type": "execute_result"
    }
   ],
   "source": [
    "state.head()"
   ]
  },
  {
   "cell_type": "code",
   "execution_count": 63,
   "metadata": {},
   "outputs": [],
   "source": [
    "import geopandas as gpd\n",
    "import cartopy.io.shapereader as shpreader"
   ]
  },
  {
   "cell_type": "code",
   "execution_count": 64,
   "metadata": {},
   "outputs": [],
   "source": [
    "shapename = 'admin_1_states_provinces_lakes_shp'\n",
    "states_shp = shpreader.natural_earth(resolution='110m', \n",
    "                                     category='cultural', name=shapename)"
   ]
  },
  {
   "cell_type": "code",
   "execution_count": 65,
   "metadata": {},
   "outputs": [],
   "source": [
    "gdf = gpd.read_file(states_shp)"
   ]
  },
  {
   "cell_type": "code",
   "execution_count": 66,
   "metadata": {},
   "outputs": [],
   "source": [
    "geoAO = gdf[['postal','geometry']].merge(state.to_frame(), left_on='postal', right_index=True)"
   ]
  },
  {
   "cell_type": "code",
   "execution_count": 67,
   "metadata": {},
   "outputs": [
    {
     "data": {
      "text/html": [
       "<div>\n",
       "<style scoped>\n",
       "    .dataframe tbody tr th:only-of-type {\n",
       "        vertical-align: middle;\n",
       "    }\n",
       "\n",
       "    .dataframe tbody tr th {\n",
       "        vertical-align: top;\n",
       "    }\n",
       "\n",
       "    .dataframe thead th {\n",
       "        text-align: right;\n",
       "    }\n",
       "</style>\n",
       "<table border=\"1\" class=\"dataframe\">\n",
       "  <thead>\n",
       "    <tr style=\"text-align: right;\">\n",
       "      <th></th>\n",
       "      <th>postal</th>\n",
       "      <th>geometry</th>\n",
       "      <th>AwardOutrightAdjusted</th>\n",
       "    </tr>\n",
       "  </thead>\n",
       "  <tbody>\n",
       "    <tr>\n",
       "      <td>0</td>\n",
       "      <td>MN</td>\n",
       "      <td>POLYGON ((-92.01192 46.71172, -92.27488 46.656...</td>\n",
       "      <td>1.509997e+08</td>\n",
       "    </tr>\n",
       "    <tr>\n",
       "      <td>1</td>\n",
       "      <td>MT</td>\n",
       "      <td>POLYGON ((-104.02662 45.95660, -104.07796 45.0...</td>\n",
       "      <td>5.242381e+07</td>\n",
       "    </tr>\n",
       "    <tr>\n",
       "      <td>2</td>\n",
       "      <td>ND</td>\n",
       "      <td>POLYGON ((-97.22894 49.00089, -97.21414 48.902...</td>\n",
       "      <td>5.109506e+07</td>\n",
       "    </tr>\n",
       "    <tr>\n",
       "      <td>3</td>\n",
       "      <td>HI</td>\n",
       "      <td>MULTIPOLYGON (((-155.54211 19.08348, -155.6881...</td>\n",
       "      <td>6.493144e+07</td>\n",
       "    </tr>\n",
       "    <tr>\n",
       "      <td>4</td>\n",
       "      <td>ID</td>\n",
       "      <td>POLYGON ((-111.08518 44.50615, -111.04973 44.4...</td>\n",
       "      <td>4.278023e+07</td>\n",
       "    </tr>\n",
       "  </tbody>\n",
       "</table>\n",
       "</div>"
      ],
      "text/plain": [
       "  postal                                           geometry  \\\n",
       "0     MN  POLYGON ((-92.01192 46.71172, -92.27488 46.656...   \n",
       "1     MT  POLYGON ((-104.02662 45.95660, -104.07796 45.0...   \n",
       "2     ND  POLYGON ((-97.22894 49.00089, -97.21414 48.902...   \n",
       "3     HI  MULTIPOLYGON (((-155.54211 19.08348, -155.6881...   \n",
       "4     ID  POLYGON ((-111.08518 44.50615, -111.04973 44.4...   \n",
       "\n",
       "   AwardOutrightAdjusted  \n",
       "0           1.509997e+08  \n",
       "1           5.242381e+07  \n",
       "2           5.109506e+07  \n",
       "3           6.493144e+07  \n",
       "4           4.278023e+07  "
      ]
     },
     "execution_count": 67,
     "metadata": {},
     "output_type": "execute_result"
    }
   ],
   "source": [
    "geoAO.head()"
   ]
  },
  {
   "cell_type": "code",
   "execution_count": 68,
   "metadata": {},
   "outputs": [
    {
     "data": {
      "text/plain": [
       "array([[<matplotlib.axes._subplots.AxesSubplot object at 0x000001DAB4495408>]],\n",
       "      dtype=object)"
      ]
     },
     "execution_count": 68,
     "metadata": {},
     "output_type": "execute_result"
    },
    {
     "data": {
      "image/png": "[encoded data removed]",
      "text/plain": [
       "<Figure size 432x288 with 1 Axes>"
      ]
     },
     "metadata": {
      "needs_background": "light"
     },
     "output_type": "display_data"
    }
   ],
   "source": [
    "geoAO.hist(range=[0,4e8])"
   ]
  },
  {
   "cell_type": "code",
   "execution_count": 69,
   "metadata": {},
   "outputs": [],
   "source": [
    "import matplotlib as mpl\n",
    "cmap = mpl.cm.viridis_r\n",
    "norm = mpl.colors.BoundaryNorm([4e7, 6e7, 8e7, 1e8, 2e8, 4e8, 1e9, 1.2e9], cmap.N)"
   ]
  },
  {
   "cell_type": "code",
   "execution_count": 70,
   "metadata": {},
   "outputs": [
    {
     "data": {
      "image/png": "[encoded data removed]",
      "text/plain": [
       "<Figure size 1080x720 with 2 Axes>"
      ]
     },
     "metadata": {
      "needs_background": "light"
     },
     "output_type": "display_data"
    }
   ],
   "source": [
    "fig, ax = plt.subplots(figsize=(15,10))\n",
    "_ = geoAO.plot('AwardOutrightAdjusted', ax=ax, cmap=cmap, norm=norm)\n",
    "_ = fig.colorbar(ax.collections[0], norm=norm, cmap=cmap, shrink=.6)"
   ]
  },
  {
   "cell_type": "code",
   "execution_count": 71,
   "metadata": {},
   "outputs": [
    {
     "data": {
      "text/plain": [
       "[]"
      ]
     },
     "execution_count": 71,
     "metadata": {},
     "output_type": "execute_result"
    },
    {
     "data": {
      "image/png": "[encoded data removed]",
      "text/plain": [
       "<Figure size 1080x720 with 1 Axes>"
      ]
     },
     "metadata": {
      "needs_background": "light"
     },
     "output_type": "display_data"
    }
   ],
   "source": [
    "# this isn't colored properly because of a bug in geopandas\n",
    "# but generally insets are a better way of dealing with hawaii and alaska \n",
    "\n",
    "fig, ax = plt.subplots(figsize=(15,10))\n",
    "im = geoAO[~geoAO['postal'].isin(['AK','HI'])].plot('AwardOutrightAdjusted', ax=ax, cmap=cmap, norm=norm)\n",
    "                                                    \n",
    "#Lower-left corner of inset axes, and its width and height.\n",
    "# new feature in mpl 3.0\n",
    "axa = ax.inset_axes([-127, 23, 10, 10], transform=ax.transData)\n",
    "_ = geoAO[geoAO['postal'].str.match('AK')].plot('AwardOutrightAdjusted', ax=axa, cmap=cmap, norm=norm)\n",
    "axa.set_xticks([])\n",
    "axa.set_yticks([])\n",
    "\n",
    "axh = ax.inset_axes([-75, 25, 9, 9], transform=ax.transData)\n",
    "_ = geoAO[geoAO['postal'].str.match('HI')].plot('AwardOutrightAdjusted', ax=axh, cmap=cmap, norm=norm)\n",
    "axh.set_xticks([])\n",
    "axh.set_yticks([])\n"
   ]
  },
  {
   "cell_type": "code",
   "execution_count": 72,
   "metadata": {},
   "outputs": [
    {
     "data": {
      "image/png": "[encoded data removed]",
      "text/plain": [
       "<Figure size 432x288 with 3 Axes>"
      ]
     },
     "metadata": {
      "needs_background": "light"
     },
     "output_type": "display_data"
    }
   ],
   "source": [
    "# also incorrect coloring due to geopandas bug, but \n",
    "import matplotlib.gridspec as gridspec\n",
    "gs = gridspec.GridSpec(2, 2, width_ratios=[2,1])\n",
    "fig = plt.figure()\n",
    "ax1 = fig.add_subplot(gs[:,0])\n",
    "ax2 = fig.add_subplot(gs[0,1])\n",
    "ax3 = fig.add_subplot(gs[1,1])\n",
    "\n",
    "_ = geoAO[~geoAO['postal'].isin(['AK','HI'])].plot('AwardOutrightAdjusted', ax=ax1, cmap=cmap, norm=norm)\n",
    "_ = geoAO[geoAO['postal'].str.match('AK')].plot('AwardOutrightAdjusted', ax=ax2, cmap=cmap, norm=norm)\n",
    "_ = geoAO[geoAO['postal'].str.match('HI')].plot('AwardOutrightAdjusted', ax=ax3, cmap=cmap, norm=norm)"
   ]
  },
  {
   "cell_type": "code",
   "execution_count": 73,
   "metadata": {},
   "outputs": [
    {
     "data": {
      "text/plain": [
       "'0.6.2'"
      ]
     },
     "execution_count": 73,
     "metadata": {},
     "output_type": "execute_result"
    }
   ],
   "source": [
    "gpd.__version__"
   ]
  },
  {
   "cell_type": "code",
   "execution_count": 74,
   "metadata": {},
   "outputs": [
    {
     "data": {
      "text/plain": [
       "<matplotlib.axes._subplots.AxesSubplot at 0x1daac45b348>"
      ]
     },
     "execution_count": 74,
     "metadata": {},
     "output_type": "execute_result"
    },
    {
     "data": {
      "image/png": "[encoded data removed]",
      "text/plain": [
       "<Figure size 432x288 with 1 Axes>"
      ]
     },
     "metadata": {
      "needs_background": "light"
     },
     "output_type": "display_data"
    }
   ],
   "source": [
    "fig, ax = plt.subplots()\n",
    "geoAO[geoAO['postal'].str.match('AK')].plot('AwardOutrightAdjusted', ax=ax, cmap=cmap, norm=norm, categorical=False)"
   ]
  },
  {
   "cell_type": "code",
   "execution_count": null,
   "metadata": {},
   "outputs": [],
   "source": []
  }
 ],
 "metadata": {
  "kernelspec": {
   "display_name": "Python 3",
   "language": "python",
   "name": "python3"
  },
  "language_info": {
   "codemirror_mode": {
    "name": "ipython",
    "version": 3
   },
   "file_extension": ".py",
   "mimetype": "text/x-python",
   "name": "python",
   "nbconvert_exporter": "python",
   "pygments_lexer": "ipython3",
   "version": "3.8.0"
  },
  "toc": {
   "base_numbering": 1,
   "nav_menu": {},
   "number_sections": false,
   "sideBar": false,
   "skip_h1_title": false,
   "title_cell": "Table of Contents",
   "title_sidebar": "Contents",
   "toc_cell": false,
   "toc_position": {},
   "toc_section_display": false,
   "toc_window_display": false
  }
 },
 "nbformat": 4,
 "nbformat_minor": 2
}
